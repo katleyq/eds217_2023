{
 "cells": [
  {
   "cell_type": "markdown",
   "metadata": {},
   "source": [
    "| [⬅️ Previous Session](practice_3-1_numpy.ipynb) | [🏠 Course Home](../index.ipynb) | [➡️ Next Session](practice_5-1_matplotlib.ipynb) |\n",
    "\n",
    "# Practice 4-1: Pandas 🐼\n"
   ]
  },
  {
   "cell_type": "markdown",
   "metadata": {},
   "source": [
    "\n",
    "## Part 0. Setup Steps\n",
    "\n",
    "- Create a repo on GitHub named `eds217-practice-4-1-pandas`\n",
    "- Clone to create a version-controlled project\n",
    "- Create some subfolder infrastructure (nbs, data, figs)\n",
    "- Create and save a new ~~quarto in RStudio called~~ jupyter notebook (`.ipynb` file) named `practice_4-1_pandas.ipynb` in the `nbs` folder.\n",
    "- Open the notebook in VSCode or jupyter notebook/lab \n",
    "- Make sure to associate the notebook with the `eds217_2023` environment.\n",
    "\n"
   ]
  },
  {
   "cell_type": "markdown",
   "metadata": {},
   "source": [
    "\n",
    "## 📚  <b> Practice 0. </b> \n",
    "    \n",
    "- Create a cell that imports your essential data science libraries.(`numpy` as `np`, `matplotlib.pyplot` as `plt` and `pandas` as `pd`)"
   ]
  },
  {
   "cell_type": "markdown",
   "metadata": {},
   "source": [
    "\n",
    "## 📚  <b> Practice 1. </b> \n",
    "    "
   ]
  },
  {
   "cell_type": "markdown",
   "metadata": {},
   "source": [
    "### Import some radiation data for our practice session"
   ]
  },
  {
   "cell_type": "markdown",
   "metadata": {},
   "source": [
    "Use panda's `read_csv()` function to import the data from github and create a new DataFrame named `bsrn`\n",
    "\n",
    "```python\n",
    "data_url = \"https://raw.githubusercontent.com/environmental-data-science\" \\\n",
    "            \"/eds217_2023/main/data/BSRN_GOB_2019-10.csv\"\n",
    "```\n"
   ]
  },
  {
   "cell_type": "markdown",
   "metadata": {},
   "source": [
    "## 📚  Practice 2. Using the DataFrame <code>bsrn</code>:\n",
    "<ol>\n",
    "    <li type=\"a\"> Print a list of your DataFrame's column names. </li>\n",
    "    <li type=\"a\"> How many values are there in the entire DataFrame? </li>\n",
    "    <li type=\"a\"> What is the data type of the first column? </li>\n",
    "</ol>"
   ]
  },
  {
   "cell_type": "markdown",
   "metadata": {},
   "source": [
    "\n",
    "## 📚  Practice 3.\n",
    "\n",
    "<ol>\n",
    "<li type=\"a\"> Create a new DataFrame containing the first record for each day and the following columns: the timestamp of the record, incoming shortwave radiation, direct and diffuse radiation, and incoming longwave radiation. \n",
    "(Hint: the BSRN station collects data every minute). \n",
    "\n",
    "<li type=\"a\"> Create a new Series containing the temperature values every hour at the top of the hour.\n",
    "\n",
    "<li type=\"a\"> Convert the `DATE` column to `datetime` using the `pd.to_datetime()` function.\n",
    "\n",
    "<li type=\"a\"> Set the `DATE` column as the index of the DataFrame using the `set_index()` method.\n",
    "\n",
    "</ol>"
   ]
  },
  {
   "cell_type": "markdown",
   "metadata": {},
   "source": [
    "## 📚  <b> Practice 4. \n",
    "</b> Calculate the mean incoming shortwave, outgoing shortwave, incoming longwave, and outgoing longwave radiation over the entire month."
   ]
  },
  {
   "cell_type": "markdown",
   "metadata": {},
   "source": [
    "## 📚  <b> Practice 5. </b>\n",
    "<ol>\n",
    "    <li type=\"a\"> Add a column <code style='font-weight:normal'>'NET_SW'</code> to <code style='font-weight:normal'>bsrn</code> with the net shortwave radiation. </li>\n",
    "    <li type=\"a\"> Add a column <code style='font-weight:normal'>'NET_LW'</code> to <code style='font-weight:normal'>bsrn</code> with the net longwave radiation. </li>\n",
    "    <li type=\"a\"> Add a column <code style='font-weight:normal'>'NET_RAD'</code> to <code style='font-weight:normal'>bsrn</code> with the net total radiation. \n",
    "    \n",
    "Net radiation is given by the following equation: </li>\n",
    "\n",
    "$$R^{}_{N} \\, = \\,  R^{\\, \\downarrow}_{SW} \\, - \\,  R^{\\, \\uparrow}_{SW} \\, + \\, R^{\\, \\downarrow}_{LW} \\, - \\,  R^{\\, \\uparrow}_{LW}$$\n",
    "    \n",
    "where $R^{\\, \\downarrow}_{SW}$ and $R^{\\, \\uparrow}_{SW}$ are incoming and outgoing shortwave radiation, respectively, and $R^{\\, \\downarrow}_{LW}$ and $R^{\\, \\uparrow}_{LW}$ are incoming and outgoing longwave radiation, respectively.\n",
    "\n",
    "\n",
    "<li type=\"a\"> Create a new DataFrame with the day of the month and daily mean values of shortwave incoming, shortwave outgoing, longwave incoming, longwave outgoing radiation, and net total radiation. (Hint: use masking!).</li>\n",
    "\n",
    "```python\n",
    "# To get you started, here's some example code to create a new dataframe containing each day, and the average incoming shortwave (solar) radiation, avg_SWD (aka SW_in),  and the average outgoing shortwave (solar) radiation, avg_SWU (aka SW_out):\n",
    "\n",
    "daily_rad = []\n",
    "for d in bsrn.index.day.unique():\n",
    "    avg_SWD = bsrn.SWD_Wm2[bsrn.index.day == d].mean()\n",
    "    avg_SWU = bsrn.SWU_Wm2[bsrn.index.day == d].mean()\n",
    "    # Append the current day and these two values to our list of daily radiation values:\n",
    "    daily_rad.append([d, avg_SWD, avg_SWU])\n",
    "\n",
    "daily_SW = pd.DataFrame(daily_rad, columns=['day', 'SW_in', 'SW_out'])\n",
    "\n",
    "```\n",
    "</ol>"
   ]
  },
  {
   "cell_type": "markdown",
   "metadata": {},
   "source": [
    "## 📚  <b> Practice 6. </b> \n",
    "\n",
    "<ol> \n",
    "\n",
    "<li type=\"a\"> Use a <code>list</code> of <code>list</code>s to construct a DataFrame named <code>df1</code> containing the data in the table below.</li>\n",
    "    \n",
    "| River       | Length $(\\text{km})$ | Drainage area $(\\text{km}^2)$ |\n",
    "|-------------|----------------------|------------------------------|\n",
    "| Amazon      | 6400                 | 7,050,000                    |\n",
    "| Congo       | 4371                 | 4,014,500                    |\n",
    "| Yangtze     | 6418                 | 1,808,500                    |\n",
    "| Mississippi | 3730                 | 3,202,230                    |\n",
    "\n"
   ]
  },
  {
   "cell_type": "markdown",
   "metadata": {},
   "source": [
    "<ol start=2>\n",
    "<li type=\"a\"> Use a <code>dict</code> to construct a DataFrame named <code>df2</code> containing the data in the table below.</li>\n",
    "\n",
    "\n",
    "| River   | Length $(\\text{km})$ | Drainage area $(\\text{km}^2)$ |\n",
    "|---------|----------------------|------------------------------|\n",
    "| Zambezi | 2574                 | 1,331,000                    |\n",
    "| Mekong  | 4023                 | 811,000                      |\n",
    "| Murray  | 2508                 | 1,061,469                    |\n",
    "| Rhône   | 813                  | 98,000                       |\n",
    "| Cubango | 1056                 | 530,000                      |\n",
    "\n",
    "\n",
    "</ol>"
   ]
  },
  {
   "cell_type": "markdown",
   "metadata": {},
   "source": [
    "\n",
    "<ol start=3>\n",
    "    <li type=\"a\"> Concatenate <code>df1</code> and <code>df2</code> into a new DataFrame with all 9 rivers.</li>\n",
    "    <li type=\"a\"> Create a new DataFrame <code>rivers</code> with the discharge, mouth, source, and continent information and add this to your DataFrame from (a) to produce a DataFrame with all of the data in the table below.</li>\n",
    "</ol>\n",
    "\n",
    "| River | Length $(\\text{km})$ | Drainage area $(\\text{km}^2)$ | Discharge $(\\text{m}^2/\\text{s})$ | Mouth | Source | Continent |\n",
    "|-------|----------------------|------------------------------|----------------------------------|-------|--------|-----------|\n",
    "| Amazon | 6400 | 7,050,000 | 209,000 | Atlantic Ocean | Rio Mantaro | South America |\n",
    "| Congo | 4371 | 4,014,500 | 41,200 | Atlantic Ocean | Lualaba River | Africa |\n",
    "| Yangtze | 6418 | 1,808,500 | 30,166 | East China Sea | Jianggendiru Glacier | Asia |\n",
    "| Mississippi | 3730 | 3,202,230 | 16,792 | Gulf of Mexico | Lake Itasca | North America |\n",
    "| Zambezi | 2574 | 1,331,000 | 3,400 | Indian Ocean | Miombo Woodlands | Africa |\n",
    "| Mekong | 4023 | 811,000 | 16,000 | South China Sea | Lasagongma Spring | Asia |\n",
    "| Murray | 2508 | 1,061,469 | 767 | Southern Ocean | Australian Alps | Oceania |\n",
    "| Rhône | 813 | 98,000 | 1,710 | Mediterranean Sea | Rhône Glacier | Europe |\n",
    "| Cubango | 1056 | 530,000 | 475 | Okavango Delta | Bié Plateau | Africa |\n",
    "\n"
   ]
  },
  {
   "cell_type": "markdown",
   "metadata": {},
   "source": [
    "##  📚  <b> Practice 7. </b> \n",
    "\n",
    "Use the `plt` module to create a visualization of your radiation data and/or the rivers data. There are examples of plotting functions from our prior exercises. Also, don't be afraid to experiment or try using GitHub CoPilot or ChatGPT to generate some intial code."
   ]
  },
  {
   "cell_type": "markdown",
   "metadata": {},
   "source": [
    "##  📚  <b> Practice 8. </b> \n",
    "\n",
    "a. Export your <code>rivers</code> DataFrame to a CSV file in your repository's data folder. \n",
    "\n",
    "b. Export your <code>bsrn</code> DataFrame to a CSV file in your repository's data folder."
   ]
  },
  {
   "cell_type": "markdown",
   "metadata": {},
   "source": [
    "<hr style=\"border-top: 1px solid gray; margin-top: 24px; margin-bottom: 1px\"></hr>"
   ]
  }
 ],
 "metadata": {
  "kernelspec": {
   "display_name": "Python 3",
   "language": "python",
   "name": "python3"
  },
  "language_info": {
   "codemirror_mode": {
    "name": "ipython",
    "version": 3
   },
   "file_extension": ".py",
   "mimetype": "text/x-python",
   "name": "python",
   "nbconvert_exporter": "python",
   "pygments_lexer": "ipython3",
   "version": "3.10.12"
  }
 },
 "nbformat": 4,
 "nbformat_minor": 4
}
