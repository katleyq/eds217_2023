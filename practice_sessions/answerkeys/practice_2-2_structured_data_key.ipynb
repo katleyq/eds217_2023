{
 "cells": [
  {
   "cell_type": "markdown",
   "metadata": {
    "slideshow": {
     "slide_type": "slide"
    }
   },
   "source": [
    "# Practice 2-2: Structured Data in Python"
   ]
  },
  {
   "cell_type": "markdown",
   "metadata": {},
   "source": [
    "## 📚  <b> Practice 1. </b> \n",
    "\n",
    "Dictionaries are an extremely common data structure. Often data is easiest to store according to keys, where each row of data has a unique key. \n",
    "\n",
    "For example, a dictionary of students might have a key for each student's name or id, and then a set of values that are associated with that student.\n",
    "\n",
    "### Make a dictionary of your peers.\n",
    "\n",
    "Come up with 3-4 questions and ask 5-6 of your peers to give answers to each one. The questions can be anything you want, but they should be questions that can be answered with a single word or number.\n",
    "\n",
    "For example, you might ask:\n",
    "- What is your favorite color? (pretty weak question)\n",
    "- How many siblings do you have? (ok, but not great)\n",
    "- What is your favorite genre of film? (better)\n",
    "- On a scale of 1-10, how well do you feel that you understand python dictionaries? (better still)\n",
    "\n",
    "Make sure you have a key for each person, and then a set of values for each question. \n",
    "\n",
    "Based on each person's responses, build a dictionary in the cell below:\n",
    "\n",
    "(note: You will end up with a dictionary of dictionaries)\n",
    "\n",
    "```python\n",
    "# Example:\n",
    "my_dict = {\n",
    "    'person1': {\n",
    "        'question1': 'answer1',\n",
    "        'question2': 'answer2',\n",
    "        'question3': 'answer3',\n",
    "        'question4': 'answer4',\n",
    "    },\n",
    "    'person2': {\n",
    "        'question1': 'answer1',\n",
    "        'question2': 'answer2',\n",
    "        'question3': 'answer3',\n",
    "        'question4': 'answer4',\n",
    "    },\n",
    "    'person3': {\n",
    "        'question1': 'answer1',\n",
    "        'question2': 'answer2',\n",
    "        'question3': 'answer3',\n",
    "        'question4': 'answer4',\n",
    "    },\n",
    "}\n",
    "```"
   ]
  },
  {
   "cell_type": "code",
   "execution_count": 1,
   "metadata": {},
   "outputs": [],
   "source": [
    "# Example:\n",
    "my_dict = {\n",
    "    'Vanessa': {\n",
    "        'What is your favorite form of cooked potato?': 'tater tots',\n",
    "        'On a scale of 1-10, how tired are you?': '5',\n",
    "        'How many countries have you traveled to?': '1',\n",
    "        'What is your favorite sport to watch?': 'volleyball',\n",
    "    },\n",
    "    'Mariam': {\n",
    "        'What is your favorite form of cooked potato?': 'breakfast potatoes',\n",
    "        'On a scale of 1-10, how tired are you?': '1',\n",
    "        'How many countries have you traveled to?': '3',\n",
    "        'What is your favorite sport to watch?': 'basketball',\n",
    "    },\n",
    "    'Kristina': {\n",
    "        'What is your favorite form of cooked potato?': 'french fries',\n",
    "        'On a scale of 1-10, how tired are you?': '5',\n",
    "        'How many countries have you traveled to?': '3',\n",
    "        'What is your favorite sport to watch?': 'golf',\n",
    "    },\n",
    "    'Haejin': {\n",
    "        'What is your favorite form of cooked potato?': 'french fries',\n",
    "        'On a scale of 1-10, how tired are you?': '10',\n",
    "        'How many countries have you traveled to?': '11',\n",
    "        'What is your favorite sport to watch?': 'soccer',\n",
    "    },\n",
    "}"
   ]
  },
  {
   "cell_type": "markdown",
   "metadata": {},
   "source": [
    "## Dictionary to dataframe\n",
    "\n",
    "Now that you have a dictionary, you can convert it to a dataframe.\n",
    "\n",
    "### Convert your dictionary to a dataframe\n",
    "\n",
    "Use the `pd.DataFrame()` function to convert your dictionary to a dataframe.\n",
    "\n",
    "```python\n",
    "import pandas as pd\n",
    "\n",
    "# Convert a dictionary to a dataframe\n",
    "df = pd.DataFrame(my_dict)\n",
    "```\n"
   ]
  },
  {
   "cell_type": "code",
   "execution_count": 2,
   "metadata": {},
   "outputs": [
    {
     "name": "stdout",
     "output_type": "stream",
     "text": [
      "Intel MKL WARNING: Support of Intel(R) Streaming SIMD Extensions 4.2 (Intel(R) SSE4.2) enabled only processors has been deprecated. Intel oneAPI Math Kernel Library 2025.0 will require Intel(R) Advanced Vector Extensions (Intel(R) AVX) instructions.\n",
      "Intel MKL WARNING: Support of Intel(R) Streaming SIMD Extensions 4.2 (Intel(R) SSE4.2) enabled only processors has been deprecated. Intel oneAPI Math Kernel Library 2025.0 will require Intel(R) Advanced Vector Extensions (Intel(R) AVX) instructions.\n"
     ]
    }
   ],
   "source": [
    "import pandas as pd\n",
    "\n",
    "df = pd.DataFrame(my_dict)"
   ]
  },
  {
   "cell_type": "markdown",
   "metadata": {},
   "source": [
    "\n",
    "### Investigate your dataframe using the following functions:\n",
    "\n",
    "- `df.head()`\n",
    "- `df.tail()`\n",
    "- `df.info()`\n",
    "\n"
   ]
  },
  {
   "cell_type": "code",
   "execution_count": 4,
   "metadata": {},
   "outputs": [
    {
     "data": {
      "text/html": [
       "<div>\n",
       "<style scoped>\n",
       "    .dataframe tbody tr th:only-of-type {\n",
       "        vertical-align: middle;\n",
       "    }\n",
       "\n",
       "    .dataframe tbody tr th {\n",
       "        vertical-align: top;\n",
       "    }\n",
       "\n",
       "    .dataframe thead th {\n",
       "        text-align: right;\n",
       "    }\n",
       "</style>\n",
       "<table border=\"1\" class=\"dataframe\">\n",
       "  <thead>\n",
       "    <tr style=\"text-align: right;\">\n",
       "      <th></th>\n",
       "      <th>Vanessa</th>\n",
       "      <th>Mariam</th>\n",
       "      <th>Kristina</th>\n",
       "      <th>Haejin</th>\n",
       "    </tr>\n",
       "  </thead>\n",
       "  <tbody>\n",
       "    <tr>\n",
       "      <th>What is your favorite form of cooked potato?</th>\n",
       "      <td>tater tots</td>\n",
       "      <td>breakfast potatoes</td>\n",
       "      <td>french fries</td>\n",
       "      <td>french fries</td>\n",
       "    </tr>\n",
       "    <tr>\n",
       "      <th>On a scale of 1-10, how tired are you?</th>\n",
       "      <td>5</td>\n",
       "      <td>1</td>\n",
       "      <td>5</td>\n",
       "      <td>10</td>\n",
       "    </tr>\n",
       "    <tr>\n",
       "      <th>How many countries have you traveled to?</th>\n",
       "      <td>1</td>\n",
       "      <td>3</td>\n",
       "      <td>3</td>\n",
       "      <td>11</td>\n",
       "    </tr>\n",
       "    <tr>\n",
       "      <th>What is your favorite sport to watch?</th>\n",
       "      <td>volleyball</td>\n",
       "      <td>basketball</td>\n",
       "      <td>golf</td>\n",
       "      <td>soccer</td>\n",
       "    </tr>\n",
       "  </tbody>\n",
       "</table>\n",
       "</div>"
      ],
      "text/plain": [
       "                                                 Vanessa              Mariam   \n",
       "What is your favorite form of cooked potato?  tater tots  breakfast potatoes  \\\n",
       "On a scale of 1-10, how tired are you?                 5                   1   \n",
       "How many countries have you traveled to?               1                   3   \n",
       "What is your favorite sport to watch?         volleyball          basketball   \n",
       "\n",
       "                                                  Kristina        Haejin  \n",
       "What is your favorite form of cooked potato?  french fries  french fries  \n",
       "On a scale of 1-10, how tired are you?                   5            10  \n",
       "How many countries have you traveled to?                 3            11  \n",
       "What is your favorite sport to watch?                 golf        soccer  "
      ]
     },
     "execution_count": 4,
     "metadata": {},
     "output_type": "execute_result"
    }
   ],
   "source": [
    "df.head()\n",
    "df.tail()"
   ]
  },
  {
   "cell_type": "markdown",
   "metadata": {},
   "source": [
    "Is your dataframe what you expected? If not, what is different? Why?? How would you need to change your data structure to get the dataframe you expected?"
   ]
  },
  {
   "cell_type": "code",
   "execution_count": null,
   "metadata": {},
   "outputs": [],
   "source": []
  },
  {
   "cell_type": "markdown",
   "metadata": {},
   "source": [
    "\n",
    "\n",
    "`df.transpose()` might be helpful here. What does it do?\n",
    "create a new dataframe that is a transposed version of your original dataframe.\n",
    "\n",
    "```python\n",
    "# Transpose a dataframe\n",
    "df_transposed = df.transpose()\n",
    "```"
   ]
  },
  {
   "cell_type": "code",
   "execution_count": 16,
   "metadata": {},
   "outputs": [
    {
     "name": "stdout",
     "output_type": "stream",
     "text": [
      "         What is your favorite form of cooked potato?   \n",
      "Vanessa                                    tater tots  \\\n",
      "Mariam                             breakfast potatoes   \n",
      "Kristina                                 french fries   \n",
      "Haejin                                   french fries   \n",
      "\n",
      "         On a scale of 1-10, how tired are you?   \n",
      "Vanessa                                       5  \\\n",
      "Mariam                                        1   \n",
      "Kristina                                      5   \n",
      "Haejin                                       10   \n",
      "\n",
      "         How many countries have you traveled to?   \n",
      "Vanessa                                         1  \\\n",
      "Mariam                                          3   \n",
      "Kristina                                        3   \n",
      "Haejin                                         11   \n",
      "\n",
      "         What is your favorite sport to watch?  \n",
      "Vanessa                             volleyball  \n",
      "Mariam                              basketball  \n",
      "Kristina                                  golf  \n",
      "Haejin                                  soccer  \n"
     ]
    }
   ],
   "source": [
    "# Transpose your dataframde so that the people are the rows and the questions are the columns.\n",
    "df_transposed = df.transpose()\n",
    "\n",
    "print(df_transposed)\n"
   ]
  },
  {
   "cell_type": "markdown",
   "metadata": {},
   "source": [
    "### Visualize/summarize your dataframe using one or more of the following functions:\n",
    "\n",
    "- `df.describe()`\n",
    "- `df.plot()`\n",
    "- `df.hist()`"
   ]
  },
  {
   "cell_type": "code",
   "execution_count": 15,
   "metadata": {},
   "outputs": [
    {
     "name": "stdout",
     "output_type": "stream",
     "text": [
      "                                                 Vanessa              Mariam   \n",
      "What is your favorite form of cooked potato?  tater tots  breakfast potatoes  \\\n",
      "On a scale of 1-10, how tired are you?                 5                   1   \n",
      "How many countries have you traveled to?               1                   3   \n",
      "What is your favorite sport to watch?         volleyball          basketball   \n",
      "\n",
      "                                                  Kristina        Haejin  \n",
      "What is your favorite form of cooked potato?  french fries  french fries  \n",
      "On a scale of 1-10, how tired are you?                   5            10  \n",
      "How many countries have you traveled to?                 3            11  \n",
      "What is your favorite sport to watch?                 golf        soccer  \n"
     ]
    }
   ],
   "source": [
    "# df.describe()\n",
    "print(df)"
   ]
  },
  {
   "cell_type": "code",
   "execution_count": null,
   "metadata": {},
   "outputs": [],
   "source": []
  },
  {
   "cell_type": "markdown",
   "metadata": {},
   "source": [
    "## 📚  <b> Practice 2. </b>\n",
    "\n",
    "### Structured data search: Find structured data on the internet and convert it to a dataframe.\n",
    "\n",
    "You're looking for data that is in a table format, like a spreadsheet, but not available as an easy to download `.csv` or `.excel` file. This turns out to describe a lot of data!\n",
    "\n",
    "Often you can find this kind of data on wikipedia, or on government websites, or in research articles that contain tables of results.\n"
   ]
  },
  {
   "cell_type": "code",
   "execution_count": null,
   "metadata": {},
   "outputs": [],
   "source": []
  },
  {
   "cell_type": "markdown",
   "metadata": {},
   "source": [
    "### Convert your data to a dataframe"
   ]
  },
  {
   "cell_type": "code",
   "execution_count": null,
   "metadata": {},
   "outputs": [],
   "source": []
  },
  {
   "cell_type": "markdown",
   "metadata": {},
   "source": [
    "## Explore your dataframe using the following functions:\n",
    "\n",
    "- `df.describe()`\n",
    "- `df.plot()`\n",
    "- `df.hist()`"
   ]
  }
 ],
 "metadata": {
  "kernelspec": {
   "display_name": "Python 3",
   "language": "python",
   "name": "python3"
  },
  "language_info": {
   "codemirror_mode": {
    "name": "ipython",
    "version": 3
   },
   "file_extension": ".py",
   "mimetype": "text/x-python",
   "name": "python",
   "nbconvert_exporter": "python",
   "pygments_lexer": "ipython3",
   "version": "3.10.12"
  }
 },
 "nbformat": 4,
 "nbformat_minor": 4
}
