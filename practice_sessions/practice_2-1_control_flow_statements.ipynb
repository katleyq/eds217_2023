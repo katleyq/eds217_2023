{
 "cells": [
  {
   "cell_type": "markdown",
   "metadata": {},
   "source": [
    "| [⬅️ Previous Session](practice_1-2_lists.ipynb) | [🏠 Course Home](../index.ipynb) | [➡️ Next Session](practice_2-2_structured_data.ipynb) |\n",
    "\n",
    "# Practice 2-1: Control Flow Statements\n",
    "\n",
    "![control.jpeg](assets/control.jpeg)\n",
    "\n",
    "<hr style=\"border-top: 1px solid gray; margin-top: 24px; margin-bottom: 1px\"></hr>"
   ]
  },
  {
   "cell_type": "markdown",
   "metadata": {},
   "source": [
    "\n",
    "## 📚  Practice 1\n",
    "\n",
    "In programs, <code>if</code> statements are useful for catching errors due to user input. \n",
    "\n",
    "Define two new variables based on user input: the first prompting for a temperature value and the second prompting for the units as \"F\" or \"C\". \n",
    "\n",
    "Using the equation below, write an <code>if</code> statement that converts the temperature input to °C if it was given in °F or to °F if given in °C. Recall that all variables assigned based on user input are strings. Be sure to comment your code.\n",
    "    \n",
    "Formula for conversion between °F and °C:\n",
    "    $$T_{^{\\circ} C} = (T_{^{\\circ} F} - 32) \\times 5/9$$\n"
   ]
  },
  {
   "cell_type": "markdown",
   "metadata": {},
   "source": [
    "Describe your strategy here:\n"
   ]
  },
  {
   "cell_type": "code",
   "execution_count": 11,
   "metadata": {},
   "outputs": [
    {
     "name": "stdout",
     "output_type": "stream",
     "text": [
      "-17.22222222222222\n"
     ]
    }
   ],
   "source": [
    "# Add your code here:\n",
    "temp = 1\n",
    "units = 'F'\n",
    "\n",
    "if units == 'F':\n",
    "    print((temp - 32) * (5/9))\n",
    "elif units == 'C':\n",
    "    print(temp * (9/5) + 32)\n",
    "else:\n",
    "    print('The temperature is not in F or C')\n",
    "\n"
   ]
  },
  {
   "cell_type": "code",
   "execution_count": 4,
   "metadata": {},
   "outputs": [
    {
     "name": "stdout",
     "output_type": "stream",
     "text": [
      "37.55555555555556\n"
     ]
    }
   ],
   "source": [
    "# class answer\n",
    "temp = input(\"Give me a temperature\")\n",
    "temp = float(temp)\n",
    "unit = input(\"Give me the units\")\n",
    "\n",
    "if unit == 'F':\n",
    "    converted_temp = (temp - 32) * (5/9)\n",
    "elif unit == 'C':\n",
    "    converted_temp = (temp * (5/9) + 32)\n",
    "else:\n",
    "    print('The temperature is not in F or C')\n",
    "\n",
    "print(converted_temp)"
   ]
  },
  {
   "cell_type": "markdown",
   "metadata": {},
   "source": [
    "## 📚  Practice 2. \n",
    "\n",
    "Using nested <code>if</code> statements and your code from Practice question #1, convert the user input temperature to the opposite units (°F to °C or vice versa), print a statement to the user that reports the temperature in the converted units and indicates whether or not the temperature below freezing. \n",
    "\n",
    "Your print statement should look something like:\n",
    "\n",
    "<code>The temperature is {__}°C/F. It is (not) below freezing.</code>\n",
    "\n"
   ]
  },
  {
   "cell_type": "markdown",
   "metadata": {},
   "source": [
    "Describe your strategy here:\n"
   ]
  },
  {
   "cell_type": "code",
   "execution_count": 10,
   "metadata": {},
   "outputs": [
    {
     "name": "stdout",
     "output_type": "stream",
     "text": [
      "The temperature is -17.22222222222222 F. It is (not) below freezing\n"
     ]
    }
   ],
   "source": [
    "# Add your code here:\n",
    "temp = 1\n",
    "units = 'F'\n",
    "\n",
    "if units == 'F':\n",
    "    converted_temp = (temp - 32) * (5/9)\n",
    "elif units == 'C':\n",
    "    converted_temp = temp * (9/5) + 32\n",
    "\n",
    "print(f\"The temperature is {converted_temp} {units}. It is (not) below freezing\")"
   ]
  },
  {
   "cell_type": "code",
   "execution_count": 11,
   "metadata": {},
   "outputs": [
    {
     "name": "stdout",
     "output_type": "stream",
     "text": [
      "The new temp is -12 F and it is below freezing.\n"
     ]
    }
   ],
   "source": [
    "# class answer\n",
    "temp = input(\"Give me a temperature\")\n",
    "temp = float(temp)\n",
    "unit = input(\"Give me the units\")\n",
    "\n",
    "if unit == 'F':\n",
    "    converted_temp = (temp - 32) * (5/9)\n",
    "    if converted_temp > 0:\n",
    "        print(f\"The new temp is {round(converted_temp)} {unit} and it is above freezing.\")\n",
    "    else:\n",
    "        print(f\"The new temp is {round(converted_temp)} {unit} and it is below freezing.\")\n",
    "elif unit == 'C':\n",
    "    converted_temp = (temp * (5/9) + 32)\n",
    "    if converted_temp > 32:\n",
    "        print(f\"The new temp is {round(converted_temp)} {unit} and it is above freezing.\")\n",
    "    else:\n",
    "        print(f\"The new temp is {round(converted_temp)} {unit} and it is below freezing.\")\n",
    "else:\n",
    "    print('The temperature is not in F or C')\n",
    "\n",
    "# print(f\"The temperature is {converted_temp} {unit}. It is (not) below freezing\")"
   ]
  },
  {
   "cell_type": "markdown",
   "metadata": {},
   "source": [
    "## 📚  <b> Practice 3. </b> \n",
    "\n",
    "1. Create a list of the six organic elements sorted in alphabetical order and then print each element in the list.\n",
    "\n",
    "Given your sorted <code>org_elements</code> list and the corresponding list of atomic masses given in the cell below, use <code>enumerate()</code> in a <code>for</code> loop to print a formatted statement that expresses the atomic mass of of each element. \n",
    "\n",
    "Your formatted print statement should include the name of the element, the atomic mass rounded to 2 decimal places, and units.\n",
    "\n"
   ]
  },
  {
   "cell_type": "markdown",
   "metadata": {},
   "source": [
    "Describe your strategy here:\n",
    "\n"
   ]
  },
  {
   "cell_type": "code",
   "execution_count": 18,
   "metadata": {},
   "outputs": [
    {
     "name": "stdout",
     "output_type": "stream",
     "text": [
      "The atomic mass of Carbon is 12.01 in grams/mol\n",
      "The atomic mass of Hydrogen is 1.01 in grams/mol\n",
      "The atomic mass of Nitrogen is 14.01 in grams/mol\n",
      "The atomic mass of Oxygen is 16.0 in grams/mol\n",
      "The atomic mass of Phosphorous is 30.97 in grams/mol\n",
      "The atomic mass of Sulfur is 32.06 in grams/mol\n"
     ]
    }
   ],
   "source": [
    "atomic_mass = [12.011, 1.00784, 14.0067, 15.999, 30.97376, 32.065]  # g/mol\n",
    "org_elements = ['Carbon', 'Hydrogen', 'Nitrogen', 'Oxygen', 'Phosphorous', 'Sulfur'] \n",
    "\n",
    "for element,mass in zip(org_elements, atomic_mass):\n",
    "    print(f\"The atomic mass of {element} is {round(mass, 2)} in grams/mol\")"
   ]
  },
  {
   "cell_type": "markdown",
   "metadata": {},
   "source": [
    "## 📚  <b> Practice 4. </b> \n",
    "The cell below contains monthly global land-ocean surface temperature in °F for each month during the years 2015-2022. \n",
    "\n",
    "Using  <code>enumerate()</code>, <code>zip()</code>, a nested <code>for</code> loop, or some combination of the three:\n",
    "\n",
    "<ol class=\"alpha\">\n",
    "<li> Calculate the monthly global land-ocean surface temperature anomalies (deviation from the mean) in °C for 2015-2018. The mean global land-ocean surface temperature calculated over the 20th century was 15.6°C.</li>\n",
    "<li> Create a new list with the mean monthly global surface temperature anomalies in °C for 2015-2023 (i.e. calculate the mean temperature anomaly for each month and put these values in a list). Use the command <code>np.mean()</code> to calculate mean values. </li> \n",
    "<li> Print each monthly mean value with the name of the month and units. </li>\n",
    "</ol>\n",
    "</div>"
   ]
  },
  {
   "cell_type": "code",
   "execution_count": 13,
   "metadata": {},
   "outputs": [],
   "source": [
    "# Import numpy for mean calculations\n",
    "import numpy as np\n",
    "\n",
    "tempF_2015 = [61.628, 61.7, 61.808, 61.448, 61.52, 61.538, 61.394, 61.52, 61.61, 62.042, 61.988, 62.168]\n",
    "tempF_2016 = [62.186, 62.546, 62.528, 62.06, 61.79, 61.52, 61.61, 61.916, 61.718, 61.682, 61.736, 61.628]\n",
    "tempF_2017 = [61.916, 62.132, 62.168, 61.772, 61.718, 61.376, 61.556, 61.646, 61.466, 61.7, 61.664, 61.754]\n",
    "tempF_2018 = [61.556, 61.61, 61.664, 61.682, 61.556, 61.466, 61.556, 61.448, 61.52, 61.916, 61.556, 61.718]\n",
    "tempF_2019 = [61.754, 61.79, 62.186, 61.898, 61.61, 61.7, 61.772, 61.79, 61.754, 61.898, 61.862, 62.042]\n",
    "tempF_2020 = [62.186, 62.312, 62.186, 62.114, 61.898, 61.736, 61.7, 61.646, 61.862, 61.664, 62.06, 61.538]\n",
    "tempF_2021 = [61.538, 61.232, 61.664, 61.43, 61.484, 61.592, 61.736, 61.556, 61.736, 61.88, 61.772, 61.61]\n",
    "\n",
    "# List of yearly lists (may or may not be useful)\n",
    "tempF_list = [tempF_2015, tempF_2016, tempF_2017, tempF_2018, tempF_2019, tempF_2020, tempF_2021]\n",
    "\n",
    "# List of years (probably useful)\n",
    "years = [2015, 2016, 2017, 2018, 2019, 2020, 2021]"
   ]
  },
  {
   "cell_type": "markdown",
   "metadata": {},
   "source": [
    "Describe your strategy here:\n",
    "\n"
   ]
  },
  {
   "cell_type": "code",
   "execution_count": 59,
   "metadata": {},
   "outputs": [],
   "source": [
    "# my answer \n",
    "for t_15,t_17 in zip(tempF_2015, tempF_2017):\n",
    "    temp_list = []\n",
    "    temp_list.append(tempF_2015)\n"
   ]
  },
  {
   "cell_type": "code",
   "execution_count": 60,
   "metadata": {},
   "outputs": [
    {
     "name": "stdout",
     "output_type": "stream",
     "text": [
      "[[61.628, 61.7, 61.808, 61.448, 61.52, 61.538, 61.394, 61.52, 61.61, 62.042, 61.988, 62.168]]\n"
     ]
    }
   ],
   "source": [
    "print(temp_list)"
   ]
  },
  {
   "cell_type": "code",
   "execution_count": null,
   "metadata": {},
   "outputs": [],
   "source": [
    "\n",
    "for tempsF,year in zip(tempF_list,years):\n",
    "    tempsC = []\n",
    "    anomsC = []\n",
    "for anom_list,year in zip(anom_list,years):\n",
    "    print(f\"{year} anomalies: {anom_list}\")\n"
   ]
  },
  {
   "cell_type": "code",
   "execution_count": 74,
   "metadata": {},
   "outputs": [
    {
     "name": "stdout",
     "output_type": "stream",
     "text": [
      "[61.628, 61.7, 61.808, 61.448, 61.52, 61.538, 61.394, 61.52, 61.61, 62.042, 61.988, 62.168]\n",
      "[62.186, 62.546, 62.528, 62.06, 61.79, 61.52, 61.61, 61.916, 61.718, 61.682, 61.736, 61.628]\n",
      "[61.916, 62.132, 62.168, 61.772, 61.718, 61.376, 61.556, 61.646, 61.466, 61.7, 61.664, 61.754]\n",
      "[61.556, 61.61, 61.664, 61.682, 61.556, 61.466, 61.556, 61.448, 61.52, 61.916, 61.556, 61.718]\n",
      "[61.754, 61.79, 62.186, 61.898, 61.61, 61.7, 61.772, 61.79, 61.754, 61.898, 61.862, 62.042]\n",
      "[62.186, 62.312, 62.186, 62.114, 61.898, 61.736, 61.7, 61.646, 61.862, 61.664, 62.06, 61.538]\n",
      "[61.538, 61.232, 61.664, 61.43, 61.484, 61.592, 61.736, 61.556, 61.736, 61.88, 61.772, 61.61]\n"
     ]
    }
   ],
   "source": [
    "# live-coding answer\n",
    "\n",
    "# get temps in C and anomalies in C\n",
    "\n",
    "tempC_list = []\n",
    "anomC_list = []\n",
    "\n",
    "mean_temp = 15.6\n",
    "for year_data in tempF_list:\n",
    "    print(year_data)\n",
    "    year_C = []\n",
    "    year_C_anom = []\n",
    "    for value in year_data:\n",
    "        C_value = (value - 32) * (5/9)\n",
    "        year_C.append((C_value))\n",
    "        year_C_anom.append(C_value - mean_temp)\n",
    "    tempC_list.append(year_C)\n",
    "    anomC_list.append(year_C_anom)\n",
    "\n",
    "priint(anomC_list)\n",
    "\n",
    "for i in range(12):\n",
    "    month_vals = []\n",
    "    for j in range(7):\n",
    "        month_vals.append(anomC_list[j][i])\n",
    "    monthly_anomalies.append(np.mean(month_vals))\n",
    "\n",
    "print(month_anomalies)"
   ]
  },
  {
   "cell_type": "code",
   "execution_count": 84,
   "metadata": {},
   "outputs": [
    {
     "name": "stdout",
     "output_type": "stream",
     "text": [
      "[0.944285714285714, 0.944285714285714, 0.944285714285714, 0.944285714285714, 0.944285714285714, 0.944285714285714, 0.944285714285714, 0.944285714285714, 0.944285714285714, 0.944285714285714, 0.944285714285714, 0.944285714285714]\n"
     ]
    }
   ],
   "source": [
    "# another live-coding route to tackle the same problem\n",
    "avg_month_F = []\n",
    "avg_month_C = []\n",
    "avg_month_anom = []\n",
    "\n",
    "for i in zip(tempF_2015, tempF_2016, tempF_2017, tempF_2018, tempF_2019, tempF_2020, tempF_2021):\n",
    "    avg_F = np.mean(i)\n",
    "    avg_C = (ave_F - 32) * (5/9)\n",
    "    avg_month_F.append(avg_F)\n",
    "    avg_month_C.append(avg_C)\n",
    "    avg_month_anom.append(avg_C - 15.6)\n",
    "\n",
    "print(avg_month_anom)"
   ]
  },
  {
   "cell_type": "code",
   "execution_count": 49,
   "metadata": {},
   "outputs": [
    {
     "name": "stdout",
     "output_type": "stream",
     "text": [
      "Practice 4a\n",
      "2015 anomalies: [0.86, 0.9, 0.96, 0.76, 0.8, 0.81, 0.73, 0.8, 0.85, 1.09, 1.06, 1.16]\n",
      "2016 anomalies: [1.17, 1.37, 1.36, 1.1, 0.95, 0.8, 0.85, 1.02, 0.91, 0.89, 0.92, 0.86]\n",
      "2017 anomalies: [1.02, 1.14, 1.16, 0.94, 0.91, 0.72, 0.82, 0.87, 0.77, 0.9, 0.88, 0.93]\n",
      "2018 anomalies: [0.82, 0.85, 0.88, 0.89, 0.82, 0.77, 0.82, 0.76, 0.8, 1.02, 0.82, 0.91]\n",
      "2019 anomalies: [0.93, 0.95, 1.17, 1.01, 0.85, 0.9, 0.94, 0.95, 0.93, 1.01, 0.99, 1.09]\n",
      "2020 anomalies: [1.17, 1.24, 1.17, 1.13, 1.01, 0.92, 0.9, 0.87, 0.99, 0.88, 1.1, 0.81]\n",
      "2021 anomalies: [0.81, 0.64, 0.88, 0.75, 0.78, 0.84, 0.92, 0.82, 0.92, 1.0, 0.94, 0.85]\n"
     ]
    }
   ],
   "source": [
    "# class answer\n",
    "# 4a. Monthly temperature anomalies\n",
    "print('Practice 4a')\n",
    "# Empty list of lists\n",
    "tempC_list = []\n",
    "anomC_list = []\n",
    "# Iterate through yearly lists\n",
    "for tempsF,year in zip(tempF_list,years):\n",
    "    # Empty list for a single year\n",
    "    tempsC = []\n",
    "    anomsC = []\n",
    "    # Iterate through a single year\n",
    "    for tempF in tempsF:\n",
    "        # Convert temp from F to C\n",
    "        tempC = (tempF - 32.0) * (5/9)\n",
    "        # Append to tempsC\n",
    "        tempsC.append(round(tempC,2))\n",
    "        # Calculate temp anomaly in °C\n",
    "        anomC = tempC - 15.6\n",
    "        # Append to anomsC\n",
    "        anomsC.append(round(anomC,2))\n",
    "    # Add list of °C temps to tempC_list (list of lists)\n",
    "    tempC_list.append(tempsC)\n",
    "    # Add list of anomalies in °C to anomC_list (list of lists)\n",
    "    anomC_list.append(anomsC)\n",
    "for anom_list,year in zip(anomC_list,years):\n",
    "    print(f\"{year} anomalies: {anom_list}\")\n"
   ]
  },
  {
   "cell_type": "code",
   "execution_count": null,
   "metadata": {},
   "outputs": [],
   "source": [
    "# 4b. Mean monthly temperature anomaly, 2015-2018\n",
    "print('Practice 4b')\n",
    "# Empty list for monthly mean temperature anomalies\n",
    "monthly_means = []\n",
    "# Set up generic counter loop with 12 iterations\n",
    "for i in range(12):\n",
    "    # Generate list of temperature anomalies for each month by extracting the ith value from each sublist.\n",
    "    monthly = [anom[i] for anom in anomC_list]\n",
    "    # Calculate mean for month i\n",
    "    monthly_mean = np.mean(monthly)\n",
    "    # Add mean for month i to list of means\n",
    "    monthly_means.append(round(monthly_mean,4))\n",
    "# Print list of mean monthly temperature anomalies, 2015-2018.\n",
    "print(f\"monthly_means: {monthly_means}\")"
   ]
  },
  {
   "cell_type": "markdown",
   "metadata": {},
   "source": [
    "## 📚  Practice 5.\n",
    "\n",
    "Use a list comprehension to print a list of all months that had an anomaly above the average monthly anomaly.\n",
    "\n",
    "Some helpful code is provided below:\n",
    "```python\n",
    "months = ['January', 'February', 'March', 'April', 'May', 'June', 'July', 'August', 'September', 'October', 'November', 'December']\n",
    "\n",
    "average_anomaly = np.mean(mean_monthly_anomalies)\n",
    "\n",
    "```\n",
    "Recall that list comprehensions can contain <code>if</code> statements. For example:\n",
    "\n",
    "[<code>item</code> for <code>item</code> in <code>list</code> if <code>item</code> > <code>value</code>]\n",
    "\n",
    "And they can also contain enumerate statements:\n",
    "\n",
    "[<code>item</code> for <code>index,item</code> in <code>enumerate(list)</code> if <code>other_list[index]</code> > <code>value</code>]"
   ]
  },
  {
   "cell_type": "markdown",
   "metadata": {},
   "source": [
    "Describe your strategy here:\n",
    "\n"
   ]
  },
  {
   "cell_type": "code",
   "execution_count": 69,
   "metadata": {},
   "outputs": [],
   "source": [
    "# Add your code here:"
   ]
  }
 ],
 "metadata": {
  "kernelspec": {
   "display_name": "eds217_2023",
   "language": "python",
   "name": "python3"
  },
  "language_info": {
   "codemirror_mode": {
    "name": "ipython",
    "version": 3
   },
   "file_extension": ".py",
   "mimetype": "text/x-python",
   "name": "python",
   "nbconvert_exporter": "python",
   "pygments_lexer": "ipython3",
   "version": "3.10.12"
  },
  "orig_nbformat": 4
 },
 "nbformat": 4,
 "nbformat_minor": 2
}
