{
 "cells": [
  {
   "cell_type": "raw",
   "id": "bc885672",
   "metadata": {},
   "source": [
    "---\n",
    "title: TryPy 00 - Exploring St. Louis Blood Toxicity Data\n",
    "---"
   ]
  },
  {
   "cell_type": "markdown",
   "id": "05a8bb88",
   "metadata": {},
   "source": [
    "\n",
    "## Part 0. Setup Steps\n",
    "\n",
    "- Create a repo on GitHub named `eds217-trypy-01`\n",
    "- Clone to create a version-controlled project\n",
    "- Create some subfolder infrastructure (nbs, data, figs)\n",
    "- Create and save a new ~~quarto in RStudio called~~ jupyter notebook (`.ipynb` file) named `stl-lead-yourinitials.ipynb` in the `nbs` folder (for example, mine would be `stl-lead-kc.ipynb`). \n",
    "- Make sure to associate the notebook with the `eds217_2023` environment.\n"
   ]
  },
  {
   "cell_type": "markdown",
   "id": "e7c81048",
   "metadata": {},
   "source": [
    "\n",
    "### Part 1 - Get the data\n",
    "\n",
    "```python\n",
    "\n",
    "\"\"\"\n",
    "Create a new variable containing \n",
    "the link to the .csv file on \n",
    "the EDS_221 github repository.\n",
    "\"\"\"\n",
    "url = 'https://raw.githubusercontent.com/'\\\n",
    "'allisonhorst/EDS_221_programming-essentials/'\\\n",
    "'main/activities/stl_blood_lead.csv'\n",
    "\n",
    "\"\"\" \n",
    "pandas can read a csv file into a \n",
    "dataframe directly from a url:\n",
    "\"\"\"\n",
    "stl_lead = pd.read_csv(url)\n",
    "\n",
    "```\n",
    "\n",
    "Read more about the data [here](https://github.com/slu-soc1120/STL_HEALTH_Lead).\n"
   ]
  },
  {
   "cell_type": "markdown",
   "id": "8db0ddc2",
   "metadata": {},
   "source": [
    "\n",
    "### Part 2 - Explore the data\n",
    "\n",
    "In your `.ipynb` file: \n",
    "\n",
    "- Create a code cell that imports the `numpy` and `pandas` packages and run the cell to import the packages.\n",
    "- Use the code above to read the url for `stl_blood_lead.csv` into a pandas DataFrame called `stl_lead`\n",
    "- Do some basic exploration of the dataset using the DataFrame `info` and `describe` commands.\n",
    "- In a new code chunk, from `stl_lead` create a new column called `prop_white` that contains the percent of each census tract identifying as white (variable `white` in the dataset divided by variable `totalPop`, times 100). \n",
    "\n",
    "Hint: `df['new_col'] = df['col_a'] / df['col_b']` will create a new column `new_col` in the dataframe `df` that contains the value of `col_a / col_b`\n",
    "\n"
   ]
  },
  {
   "cell_type": "code",
   "execution_count": 2,
   "id": "c2e86bd8",
   "metadata": {
    "jupyter": {
     "source_hidden": true
    }
   },
   "outputs": [],
   "source": [
    "#| echo: false\n",
    "#| eval: false\n",
    "import pandas as pd\n",
    "url = 'https://raw.githubusercontent.com/allisonhorst/'\\\n",
    "      'EDS_221_programming-essentials/main/activities/' \\\n",
    "      'stl_blood_lead.csv'\n",
    "\n",
    "stl_lead = pd.read_csv(url)\n",
    "\n",
    "stl_lead['prop_white'] = stl_lead['white'] / stl_lead['totalPop']"
   ]
  },
  {
   "cell_type": "markdown",
   "id": "bb063b5a",
   "metadata": {},
   "source": [
    "### Part 3 - Create a scatterplot\n",
    "\n",
    "- Import matplotlib (`import matplotlib.pyplot as plt`)\n",
    "- Create a scatterplot graph of the percentage of children in each census tract with elevated blood lead levels (`pctElevated`) versus the percent of each census tract identifying as white. "
   ]
  },
  {
   "cell_type": "code",
   "execution_count": 3,
   "id": "bd731cb4",
   "metadata": {
    "collapsed": true,
    "jupyter": {
     "outputs_hidden": true,
     "source_hidden": true
    },
    "scrolled": true
   },
   "outputs": [
    {
     "data": {
      "text/plain": [
       "[<matplotlib.lines.Line2D at 0x7ff3b83ab610>]"
      ]
     },
     "execution_count": 3,
     "metadata": {},
     "output_type": "execute_result"
    },
    {
     "data": {
      "image/png": "[encoded data removed]",
      "text/plain": [
       "<Figure size 640x480 with 1 Axes>"
      ]
     },
     "metadata": {},
     "output_type": "display_data"
    }
   ],
   "source": [
    "#| echo: false\n",
    "#| eval: false\n",
    "\n",
    "import matplotlib.pyplot as plt\n",
    "\n",
    "plt.plot(stl_lead['prop_white'], stl_lead['pctElevated'],'.')"
   ]
  },
  {
   "cell_type": "markdown",
   "id": "dcf11dd7",
   "metadata": {},
   "source": [
    "### Part 4 - Create a histogram\n",
    "\n",
    "- Create a histogram of only the `pctElevated` column in the data frame \n",
    "- Customize the fill, color, and size aesthetics - test some stuff! Feel free to make it awful. "
   ]
  },
  {
   "cell_type": "code",
   "execution_count": 13,
   "id": "4d2bd347",
   "metadata": {},
   "outputs": [
    {
     "data": {
      "text/plain": [
       "Text(0.5, 1.0, 'PCT Level Histogram')"
      ]
     },
     "execution_count": 13,
     "metadata": {},
     "output_type": "execute_result"
    },
    {
     "data": {
      "image/png": "[encoded data removed]",
      "text/plain": [
       "<Figure size 640x480 with 1 Axes>"
      ]
     },
     "metadata": {},
     "output_type": "display_data"
    }
   ],
   "source": [
    "import matplotlib.pyplot as plt\n",
    "\n",
    "plt.hist(stl_lead['pctElevated'], \n",
    "         color = 'grey', \n",
    "         edgecolor = 'black')\n",
    "plt.xlabel('PCT Value')\n",
    "plt.ylabel('Frequency')\n",
    "plt.title('PCT Level Histogram')"
   ]
  }
 ],
 "metadata": {
  "kernelspec": {
   "display_name": "Python 3 (ipykernel)",
   "language": "python",
   "name": "python3"
  },
  "language_info": {
   "codemirror_mode": {
    "name": "ipython",
    "version": 3
   },
   "file_extension": ".py",
   "mimetype": "text/x-python",
   "name": "python",
   "nbconvert_exporter": "python",
   "pygments_lexer": "ipython3",
   "version": "3.10.12"
  },
  "nteract": {
   "version": "0.28.0"
  }
 },
 "nbformat": 4,
 "nbformat_minor": 5
}
